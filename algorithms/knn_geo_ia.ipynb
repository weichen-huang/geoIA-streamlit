{
  "nbformat": 4,
  "nbformat_minor": 0,
  "metadata": {
    "colab": {
      "private_outputs": true,
      "provenance": []
    },
    "kernelspec": {
      "name": "python3",
      "display_name": "Python 3"
    },
    "language_info": {
      "name": "python"
    }
  },
  "cells": [
    {
      "cell_type": "code",
      "execution_count": null,
      "metadata": {
        "id": "rfTHOHbwGAwP"
      },
      "outputs": [],
      "source": [
        "!pip install overpy"
      ]
    },
    {
      "cell_type": "code",
      "source": [
        "from math import radians, sin, cos, acos, pi\n",
        "from scipy.optimize import curve_fit\n",
        "import matplotlib.pyplot as plt\n",
        "import overpy\n",
        "import plotly.express as px\n",
        "import pandas as pd\n",
        "import numpy as np\n",
        "import scipy\n",
        "\n",
        "api = overpy.Overpass()\n",
        "\n",
        "def getdist(a, b):\n",
        "\n",
        "    mlat = radians(float(a[0]))\n",
        "    mlon = radians(float(a[1]))\n",
        "    plat = radians(float(b[0]))\n",
        "    plon = radians(float(b[1]))\n",
        "    dist = 6371.01 * acos(sin(mlat)*sin(plat) + cos(mlat)*cos(plat)*cos(mlon - plon))\n",
        "\n",
        "    return dist\n",
        "\n",
        "def getnodes(lat=53.288417917647095, lon=-6.140863082085563, radius=1000):\n",
        "    query = \"\"\"(node[\"shop\"](around:{rad},{lat},{lon});\n",
        "            node[\"office\"](around:{rad},{lat},{lon});\n",
        "            node[\"healthcare\"](around:{rad},{lat},{lon});\n",
        "            node[\"building\"=\"commercial\"](around:{rad},{lat},{lon});\n",
        "            node[\"amenities\"=\"restaurant\"](around:{rad},{lat},{lon});\n",
        "            node[\"amenities\"=\"cafe\"](around:{rad},{lat},{lon});\n",
        "        );out;\n",
        "        \"\"\".format(lat=lat, lon=lon, rad=radius)\n",
        "    result = api.query(query)\n",
        "    nodes = [[float(x.lat), float(x.lon)] for x in result.nodes]\n",
        "    return nodes\n"
      ],
      "metadata": {
        "id": "PvCRMLhW8_kW"
      },
      "execution_count": null,
      "outputs": []
    },
    {
      "cell_type": "code",
      "source": [
        "def nncalc(nodes, radius):\n",
        "    dist = {}\n",
        "    dist_val = 0\n",
        "\n",
        "    for i, node in enumerate(nodes[:-1]):\n",
        "        dist[i] = 1e9\n",
        "        for j in range(i+1, len(nodes)):\n",
        "            dist[i] = min(dist[i], getdist(node, nodes[j]))\n",
        "\n",
        "        dist_val += dist[i]\n",
        "\n",
        "\n",
        "    n = len(nodes)\n",
        "    dist_val /= n\n",
        "\n",
        "    A = (radius / 1000) ** 2 * pi\n",
        "    d_expected = 1 / ((n / A) ** 0.5)\n",
        "\n",
        "    R = dist_val / d_expected\n",
        "\n",
        "    return R\n",
        "\n",
        "def run(centroid, radius=1000):\n",
        "    nodes = getnodes(lat=centroid[0], lon=centroid[1], radius=radius)\n",
        "\n",
        "    return nncalc(nodes, radius)\n",
        "\n",
        "\n",
        "def getline(x, y, deg=3):\n",
        "    coefficients = np.polyfit(x, y, deg)\n",
        "    predicted_y = np.polyval(coefficients, x)\n",
        "    error = np.mean((y - predicted_y) ** 2)\n",
        "    best_fit_line = np.polyval(coefficients, x)\n",
        "    return best_fit_line, error\n",
        "\n",
        "def getcentroid(coordinates):\n",
        "\n",
        "    total_lat = 0\n",
        "    total_lon = 0\n",
        "    num_points = len(coordinates)\n",
        "\n",
        "    for lon, lat in coordinates:\n",
        "        total_lon += lon\n",
        "        total_lat += lat\n",
        "\n",
        "    centroid_lon = total_lon / num_points\n",
        "    centroid_lat = total_lat / num_points\n",
        "\n",
        "    return (centroid_lon, centroid_lat)\n",
        "\n",
        "def update(curlat, curlon, steps, prevloss, radius=1000, discrete=False, maxsteps=100):\n",
        "\n",
        "    if steps >= maxsteps:\n",
        "        return (curlat, curlon)\n",
        "\n",
        "    radial_nodes = getnodes(curlat, curlon, radius)\n",
        "    centroid = getcentroid(radial_nodes)\n",
        "    if discrete:\n",
        "        mn_dst_node = radial_nodes[0]\n",
        "        mn_dst = getdist(mn_dst_node, centroid)\n",
        "\n",
        "        for node in radial_nodes:\n",
        "            cur_dist = getdist(node, centroid)\n",
        "            if cur_dist < mn_dst:\n",
        "                mn_dst_node = node\n",
        "                mn_dst = cur_dist\n",
        "    else:\n",
        "        mn_dst_node = centroid\n",
        "\n",
        "    loss = nncalc(radial_nodes, radius)\n",
        "    print(\"loss:\", loss)\n",
        "\n",
        "    if loss == 0 or (loss == prevloss and discrete == True):\n",
        "        return (curlat, curlon)\n",
        "\n",
        "    return update(mn_dst_node[0], mn_dst_node[1], steps+1, loss, radius, discrete, maxsteps)\n"
      ],
      "metadata": {
        "id": "DvJf-qA4GFkk"
      },
      "execution_count": null,
      "outputs": []
    },
    {
      "cell_type": "code",
      "source": [
        "centroid = update(53.30236, -6.127176, 0, 1000, 2000, True, 10)"
      ],
      "metadata": {
        "id": "jnqH9aQLVmst"
      },
      "execution_count": null,
      "outputs": []
    },
    {
      "cell_type": "code",
      "source": [
        "print(centroid)"
      ],
      "metadata": {
        "id": "NLyyzMrPWUBz"
      },
      "execution_count": null,
      "outputs": []
    },
    {
      "cell_type": "code",
      "source": [
        "print(run(centroid, 2000))"
      ],
      "metadata": {
        "id": "tkOT87xxBXPj"
      },
      "execution_count": null,
      "outputs": []
    },
    {
      "cell_type": "code",
      "source": [
        "x = [i for i in range(200, 2600, 100)]\n",
        "y = [run(centroid, i) for i in x]\n",
        "\n",
        "plt.scatter(x, y, color=\"blue\", label=f'Points')\n",
        "\n",
        "# Plot the best fit line\n",
        "best_fit_line, error = getline(x, y)\n",
        "plt.plot(x, best_fit_line, color=\"blue\", label=f'Best Fit Line')\n",
        "\n",
        "# Add labels and title\n",
        "plt.xlabel('Radius (m)')\n",
        "plt.ylabel('NN Correlation')\n",
        "plt.title(f'Best Fit Line for radius-NN correlation')\n",
        "# Output error and min/max slopes\n",
        "print(f\"Mean Squared Error: {error}\")\n",
        "\n"
      ],
      "metadata": {
        "id": "BTkdxaOz_zBW"
      },
      "execution_count": null,
      "outputs": []
    },
    {
      "cell_type": "code",
      "source": [
        "# Experimentally determined\n",
        "\n",
        "radius = 2000"
      ],
      "metadata": {
        "id": "pNrb--AYabzT"
      },
      "execution_count": null,
      "outputs": []
    },
    {
      "cell_type": "code",
      "source": [
        "nodes = getnodes(lat=centroid[0], lon=centroid[1], radius=radius)\n",
        "rcx, rcy = [], []\n",
        "\n",
        "for coord in nodes:\n",
        "\n",
        "    x = - cos(coord[0]) * sin(coord[1])\n",
        "    z = - sin(coord[0])\n",
        "\n",
        "    rcx.append(x)\n",
        "    rcy.append(z)\n",
        "\n",
        "plt.scatter(rcx, rcy, color=\"blue\", label='Commercial Building')\n",
        "plt.scatter([0.145], [-0.115], color=\"yellow\", label='Dun Laoghaire Marine Road')\n",
        "plt.scatter([- cos(centroid[0]) * sin(centroid[1])], [- sin(centroid[0])], color=\"green\", label='Centroid')\n",
        "\n",
        "\n",
        "\n",
        "\n",
        "# Add labels and title\n",
        "plt.title('Coordinates Mapped to Cartesian Plane')\n",
        "plt.legend()\n",
        "plt.show()"
      ],
      "metadata": {
        "id": "CXEjQtlSJL3x"
      },
      "execution_count": null,
      "outputs": []
    },
    {
      "cell_type": "code",
      "source": [
        "fig = px.scatter_mapbox(getnodes(radius=radius),\n",
        "                        lat=0,\n",
        "                        lon=1,\n",
        "                        zoom=8,\n",
        "                        height=800,\n",
        "                        width=800)\n",
        "\n",
        "fig.update_layout(mapbox_style=\"open-street-map\")\n",
        "fig.update_layout(margin={\"r\":0,\"t\":0,\"l\":0,\"b\":0})\n",
        "fig.show()"
      ],
      "metadata": {
        "id": "bFptUDrJRExa"
      },
      "execution_count": null,
      "outputs": []
    },
    {
      "cell_type": "code",
      "source": [
        "from math import *\n",
        "\n",
        "# https://stackoverflow.com/questions/58482966/itm-irish-transverse-coordinate-conversion-to-gps-for-google-maps-python3\n",
        "\n",
        "############################################################################\n",
        "\n",
        "# Meridian Arc\n",
        "\n",
        "############################################################################\n",
        "\n",
        "def arcmer(a,equad,lat1,lat2):\n",
        "\n",
        "    b=a*sqrt(1-equad)\n",
        "\n",
        "    n=(a-b)/(a+b)\n",
        "\n",
        "    a0=1.+((n**2)/4.)+((n**4)/64.)\n",
        "\n",
        "    a2=(3./2.)*(n-((n**3)/8.))\n",
        "\n",
        "    a4=(15./16.)*((n**2)-((n**4)/4.))\n",
        "\n",
        "    a6=(35./48.)*(n**3)\n",
        "\n",
        "\n",
        "\n",
        "    s1=a/(1+n)*(a0*lat1-a2*sin(2.*lat1)+a4*sin(4.*lat1)-a6*sin(6.*lat1))\n",
        "\n",
        "    s2=a/(1+n)*(a0*lat2-a2*sin(2.*lat2)+a4*sin(4.*lat2)-a6*sin(6.*lat2))\n",
        "\n",
        "    return s2-s1\n",
        "\n",
        "###############################################################################\n",
        "#\n",
        "# Transverse Mercator Inverse Projection\n",
        "#\n",
        "###############################################################################\n",
        "def xy2geo(m,p,a,equad,lat0,lon0):\n",
        "\n",
        "    lat0=radians(lat0)\n",
        "    lon0=radians(lon0)\n",
        "\n",
        "    sigma1=p\n",
        "\n",
        "    fil=lat0+sigma1/(a*(1-equad))\n",
        "\n",
        "    deltafi=1\n",
        "\n",
        "    while deltafi > 0.0000000001:\n",
        "\n",
        "        sigma2=arcmer(a,equad,lat0,fil)\n",
        "\n",
        "        RO=a*(1-equad)/((1-equad*(sin(fil)**2))**(3./2.))\n",
        "\n",
        "        deltafi=(sigma1-sigma2)/RO\n",
        "\n",
        "        fil=fil+deltafi\n",
        "\n",
        "\n",
        "    N=a/sqrt(1-equad*(sin(fil))**2)\n",
        "\n",
        "    RO=a*(1-equad)/((1-equad*(sin(fil)**2))**(3./2.))\n",
        "\n",
        "    t=tan(fil)\n",
        "\n",
        "    psi=N/RO\n",
        "\n",
        "    lat=fil-(t/RO)*((m**2)/(2.*N))+(t/RO)*((m**4)/(24.*(N**3)))*(-4.*(psi**2)-9.*psi*(1.-t**2)+12.*(t**2))-(t/RO)*(m**6/(720.*(N**5)))*(8.*(psi**4)*(11.-24.*(t**2))-12.*(psi**3)*(21.-71.*(t**2))+15.*(psi**2)*(15.-98.*(t**2)+15.*(t**4))+180.*psi*(5.*(t**2)-3.*(t**4))-360.*(t**4))+(t/RO)*((m**8)/(40320.*(N**7)))*(1385.+3633.*(t**2)+4095.*(t**4)+1575.*(t**6))\n",
        "\n",
        "    lon=(m/(N))-((m**3)/(6.*(N**3)))*(psi+2.*(t**2))+((m**5)/(120.*(N**5)))*(-4.*(psi**3)*(1.-6.*(t**2))+(psi**2)*(9.-68.*(t**2))+72.*psi*(t**2)+24.*(t**4))-((m**7)/(5040.*(N**7)))*(61.+662.*(t**2)+1320.*(t**4)+720.*(t**6))\n",
        "\n",
        "    lon=lon0+lon/cos(fil)\n",
        "\n",
        "    lat=degrees(lat)\n",
        "    lon=degrees(lon)\n",
        "\n",
        "    return lat,lon\n",
        "\n",
        "\n",
        "#############################################################################\n",
        "\n",
        "# Irish Transverse Mercator - Inverse\n",
        "\n",
        "#############################################################################\n",
        "\n",
        "def itm2geo(x,y):\n",
        "\n",
        "    # GRS-80\n",
        "\n",
        "    a = 6378137.\n",
        "\n",
        "    equad =0.00669437999\n",
        "\n",
        "    # Natural Origin\n",
        "\n",
        "    lat0=53.5\n",
        "\n",
        "    lon0=-8.\n",
        "\n",
        "    k0=0.999820\n",
        "\n",
        "    p = (y - 750000.) /k0\n",
        "\n",
        "    m = (x - 600000.) /k0\n",
        "\n",
        "    lat,lon = xy2geo(m,p,a,equad,lat0,lon0)\n",
        "\n",
        "    return lat,lon\n"
      ],
      "metadata": {
        "id": "GAqdXRW9gNSp"
      },
      "execution_count": null,
      "outputs": []
    },
    {
      "cell_type": "code",
      "source": [
        "import requests\n",
        "\n",
        "url = \"https://api.valoff.ie/api/Property/GetProperties\"\n",
        "params = {\n",
        "    \"Fields\": \"AreaPerFloor,RateableValuation,ITM,Eircode\",\n",
        "    \"LocalAuthority\": \"DUN LAOGHAIRE RATHDOWN CO CO\",\n",
        "    \"CategorySelected\": \"OFFICE,FUEL/DEPOT,LEISURE,INDUSTRIAL USES,HEALTH,HOSPITALITY,MINERALS,MISCELLANEOUS,RETAIL (SHOPS),UTILITY,RETAIL (WAREHOUSE),NO CATEGORY SELECTED,CENTRAL VALUATION LIST\",\n",
        "    \"Format\": \"json\",\n",
        "    \"Download\": \"false\"\n",
        "}\n",
        "\n",
        "response = requests.get(url, params=params)\n",
        "\n",
        "data = response.json()\n",
        "\n",
        "print(data)"
      ],
      "metadata": {
        "id": "A6Nhq9jUgN9g"
      },
      "execution_count": null,
      "outputs": []
    },
    {
      "cell_type": "code",
      "source": [
        "filtered = []\n",
        "\n",
        "for loc in data:\n",
        "    if 'Eircode' in loc and loc['Eircode'] is not None and len(loc['Eircode']) > 3:\n",
        "        lat, lon = itm2geo(loc[\"Xitm\"], loc[\"Yitm\"])\n",
        "\n",
        "        if getdist([lat, lon], centroid) > radius / 1000:\n",
        "            continue\n",
        "\n",
        "        if loc[\"Valuation\"] > 1 * 10 ** 6:\n",
        "            loc[\"Valuation\"] = 1 * 10 ** 6\n",
        "        area = 0.0\n",
        "\n",
        "        for dict_obj in loc[\"ValuationReport\"]:\n",
        "            area += dict_obj[\"Area\"]\n",
        "        print(area, getdist([lat, lon], centroid))\n",
        "        if area > 0 and loc[\"Valuation\"] / area < 1000:\n",
        "            filtered.append([lat, lon, len(loc[\"ValuationReport\"]), loc[\"Valuation\"] / area])"
      ],
      "metadata": {
        "id": "EtVp-Zd0gRV6"
      },
      "execution_count": null,
      "outputs": []
    },
    {
      "cell_type": "code",
      "source": [
        "print(len(filtered))\n",
        "print(filtered[0])"
      ],
      "metadata": {
        "id": "WshC35lDgUQr"
      },
      "execution_count": null,
      "outputs": []
    },
    {
      "cell_type": "code",
      "source": [
        "color_scale = [(0, 'blue'), (1,'red')]\n",
        "\n",
        "\n",
        "fig = px.scatter_mapbox(filtered,\n",
        "                        lat=0,\n",
        "                        lon=1,\n",
        "                        hover_name=3,\n",
        "                        color=3,\n",
        "                        color_continuous_scale=color_scale,\n",
        "                        size=2,\n",
        "                        zoom=8,\n",
        "                        height=800,\n",
        "                        width=800)\n",
        "\n",
        "fig.update_layout(mapbox_style=\"open-street-map\")\n",
        "fig.update_layout(margin={\"r\":0,\"t\":0,\"l\":0,\"b\":0})\n",
        "fig.show()"
      ],
      "metadata": {
        "id": "7xY14tR3g8ea"
      },
      "execution_count": null,
      "outputs": []
    },
    {
      "cell_type": "code",
      "source": [
        "def func(x, a, b, c):\n",
        "    return a * np.array(np.exp(-b * x)) + c\n",
        "\n",
        "def curvefit(x, y):\n",
        "    popt, pcov = curve_fit(func, x, y, maxfev=10000)\n",
        "    return popt"
      ],
      "metadata": {
        "id": "dQB8XfdDmfHv"
      },
      "execution_count": null,
      "outputs": []
    },
    {
      "cell_type": "code",
      "source": [
        "mp = {}\n",
        "\n",
        "for a in filtered:\n",
        "    cur_dist = round(int(getdist([a[0], a[1]], [53.2892096965318, -6.139133507514453]) * 1000), -2)\n",
        "    if cur_dist not in mp: mp[cur_dist] = 0\n",
        "    mp[cur_dist] = max(mp[cur_dist], a[2])\n",
        "\n",
        "x = list(mp.keys())\n",
        "y = list(mp.values())\n",
        "\n",
        "plt.scatter(x, y, color=\"blue\", label=f'Points')\n",
        "\n",
        "# Plot the best fit line\n",
        "best_fit_line, error = getline(x, y, deg=1)\n",
        "plt.plot(x, best_fit_line, color=\"black\", label=f'Best Fit Line')\n",
        "\n",
        "# Add labels and title\n",
        "plt.xlabel('Distance (m)')\n",
        "plt.ylabel('Height Correlation')\n",
        "plt.title(f'Best Fit Line for Central Distance-Height Correlation')\n",
        "# Output error and min/max slopes\n",
        "print(f\"Mean Squared Error: {error}\")\n"
      ],
      "metadata": {
        "id": "xsusX7tTjRT8"
      },
      "execution_count": null,
      "outputs": []
    },
    {
      "cell_type": "code",
      "source": [
        "mp = {}\n",
        "\n",
        "for a in filtered:\n",
        "    cur_dist = round(int(getdist([a[0], a[1]], [53.2892096965318, -6.139133507514453]) * 1000), -2)\n",
        "    if cur_dist not in mp: mp[cur_dist] = 0\n",
        "    mp[cur_dist] = max(mp[cur_dist], a[3])\n",
        "\n",
        "x = list(mp.keys())\n",
        "y = list(mp.values())\n",
        "\n",
        "plt.scatter(x, y, color=\"blue\", label=f'Points')\n",
        "\n",
        "# Plot the best fit line\n",
        "best_fit_line, error = getline(x, y, deg=1)\n",
        "plt.plot(x, best_fit_line, color=\"black\", label=f'Best Fit Line')\n",
        "\n",
        "# Add labels and title\n",
        "plt.xlabel('Distance (m)')\n",
        "plt.ylabel('Value Correlation')\n",
        "plt.title(f'Best Fit Line for Central Distance-Value Correlation')\n",
        "# Output error and min/max slopes\n",
        "print(f\"Mean Squared Error: {error}\")\n"
      ],
      "metadata": {
        "id": "rDQk-Tn2k9OU"
      },
      "execution_count": null,
      "outputs": []
    },
    {
      "cell_type": "code",
      "source": [],
      "metadata": {
        "id": "9nY553gRSpKs"
      },
      "execution_count": null,
      "outputs": []
    }
  ]
}