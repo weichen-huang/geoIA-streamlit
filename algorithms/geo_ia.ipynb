{
  "nbformat": 4,
  "nbformat_minor": 0,
  "metadata": {
    "colab": {
      "private_outputs": true,
      "provenance": []
    },
    "kernelspec": {
      "name": "python3",
      "display_name": "Python 3"
    },
    "language_info": {
      "name": "python"
    }
  },
  "cells": [
    {
      "cell_type": "code",
      "execution_count": null,
      "metadata": {
        "id": "F7kSa8TKyfoO"
      },
      "outputs": [],
      "source": [
        "import matplotlib.pyplot as plt\n",
        "import numpy as np\n",
        "import scipy\n",
        "\n",
        "# Glasthule Transect\n",
        "\n",
        "# Format: Station, Time, Car, Motorbike, Cyclist, Truck, Construction, Bus, Van, Other, Total, Pedestrian, Field notes\n",
        "\n",
        "data0 = [\n",
        "    [1, \"11:41\", 4, 1, 0, 1, 0, 0, 0, 0, 6, 1, \"Heavy rain\"],\n",
        "    [2, \"11:53\", 3, 0, 1, 1, 0, 0, 0, 0, 5, 1, \"Data are average from three takings\"],\n",
        "    [3, \"12:10\", 5, 0, 0, 0, 0, 0, 1, 0, 6, 1, \"Transects are 150m apart\"],\n",
        "    [4, \"12:17\", 7, 0, 0, 0, 0, 1, 0, 0, 8, 4, \"\"],\n",
        "    [5, \"12:31\", 8, 0, 0, 1, 0, 0, 1, 0, 10, 3, \"\"],\n",
        "    [6, \"12:42\", 6, 0, 1, 0, 0, 1, 1, 0, 9, 1, \"\"],\n",
        "    [7, \"12:53\", 7, 0, 0, 0, 0, 0, 2, 0, 9, 2, \"\"],\n",
        "    [8, \"13:04\", 8, 0, 0, 1, 0, 1, 1, 0, 11, 4, \"\"],\n",
        "    [9, \"13:21\", 5, 1, 0, 0, 0, 1, 3, 0, 10, 13, \"\"],\n",
        "    [10, \"13:26\", 7, 0, 0, 0, 0, 1, 1, 0, 9, 7, \"\"],\n",
        "    [11, \"14:21\", 9, 0, 1, 0, 1, 1, 3, 0, 15, 11, \"\"]\n",
        "]\n",
        "\n",
        "# Monkstown Transect\n",
        "\n",
        "data1 = [\n",
        "    [1, \"11:00\", 15, 0, 0, 0, 0, 2, 0, 0, 17, 0, \"\"],\n",
        "    [2, \"11:12\", 14, 1, 0, 0, 0, 2, 0, 0, 18, 0, \"\"],\n",
        "    [3, \"11:27\", 9, 0, 1, 0, 0, 5, 0, 0, 16, 2, \"\"],\n",
        "    [4, \"11:47\", 13, 1, 0, 0, 1, 2, 0, 0, 18, 0, \"\"],\n",
        "    [5, \"12:05\", 15, 0, 0, 0, 1, 1, 0, 0, 17, 0, \"\"],\n",
        "    [6, \"12:55\", 12, 0, 0, 0, 1, 3, 0, 0, 16, 3, \"\"],\n",
        "    [7, \"13:02\", 9, 0, 0, 0, 0, 1, 0, 0, 10, 2, \"\"],\n",
        "    [8, \"13:13\", 14, 0, 0, 0, 0, 2, 0, 0, 16, 9, \"\"],\n",
        "    [9, \"13:22\", 19, 1, 0, 1, 0, 0, 0, 0, 21, 2, \"\"],\n",
        "    [10, \"13:30\", 8, 0, 0, 0, 1, 0, 0, 0, 9, 6, \"\"],\n",
        "    [11, \"13:36\", 17, 0, 0, 0, 0, 2, 0, 0, 19, 10, \"\"],\n",
        "    [12, \"13:44\", 14, 0, 1, 0, 0, 1, 0, 0, 17, 11, \"\"],\n",
        "    [13, \"13:55\", 7, 1, 0, 0, 2, 0, 0, 0, 10, 27, \"\"],\n",
        "    [14, \"14:01\", 9, 0, 0, 0, 1, 0, 0, 0, 10, 38, \"\"]\n",
        "]\n",
        "\n",
        "# Seapoint Transect\n",
        "\n",
        "data2 = [\n",
        "    [1, \"10:55\", 2, 0, 0, 0, 0, 0, 1, 0, 3, 1, \"\"],\n",
        "    [2, \"11:05\", 3, 0, 0, 0, 0, 0, 1, 0, 4, 1, \"\"],\n",
        "    [3, \"11:15\", 3, 0, 0, 0, 0, 0, 1, 0, 4, 0, \"\"],\n",
        "    [4, \"11:21\", 4, 0, 0, 0, 0, 0, 2, 0, 6, 1, \"\"],\n",
        "    [5, \"11:29\", 4, 0, 0, 0, 0, 0, 1, 0, 5, 1, \"\"],\n",
        "    [6, \"11:35\", 3, 0, 0, 0, 0, 0, 1, 0, 4, 1, \"\"],\n",
        "    [7, \"11:45\", 5, 0, 0, 0, 0, 0, 1, 0, 6, 1, \"\"],\n",
        "    [8, \"12:16\", 5, 0, 0, 0, 0, 0, 1, 0, 6, 0, \"\"],\n",
        "    [9, \"12:20\", 4, 0, 0, 0, 0, 1, 1, 0, 6, 1, \"\"],\n",
        "    [10, \"12:28\", 7, 0, 0, 0, 0, 0, 1, 0, 8, 0, \"\"],\n",
        "    [11, \"12:35\", 5, 1, 0, 0, 0, 1, 1, 0, 8, 1, \"\"],\n",
        "    [12, \"12:42\", 8, 0, 0, 0, 0, 1, 1, 0, 10, 4, \"\"]\n",
        "]\n",
        "\n",
        "# Marine Transect\n",
        "\n",
        "data3 = [\n",
        "    [1, \"9:45\", 8, 0, 0, 1, 0, 0, 1, 0, 10, 1, \"\"],\n",
        "    [2, \"10:20\", 9, 0, 0, 0, 0, 0, 2, 0, 11, 1, \"Bins on footpaths - waiting to be emptied\"],\n",
        "    [3, \"10:45\", 10, 0, 0, 1, 0, 1, 1, 0, 12, 0, \"5 dogs\"],\n",
        "    [4, \"11:08\", 2, 0, 0, 0, 0, 0, 1, 0, 3, 3, \"One-way-road\"],\n",
        "    [5, \"11:29\", 1, 0, 0, 0, 0, 0, 1, 0, 2, 2, \"\"],\n",
        "    [6, \"11:45\", 4, 1, 0, 0, 0, 0, 1, 0, 6, 3, \"\"],\n",
        "    [7, \"12:07\", 1, 0, 0, 0, 0, 0, 1, 0, 2, 3, \"\"],\n",
        "    [8, \"12:30\", 7, 1, 0, 0, 0, 0, 1, 0, 9, 11, \"End of Marine Road\"],\n",
        "    [9, \"13:00\", 3, 0, 0, 0, 0, 0, 2, 0, 5, 6, \"\"]\n",
        "]\n",
        "\n",
        "# 40 Foot Transect\n",
        "\n",
        "data4 = [\n",
        "    [1, \"\", 0, 0, 0, 0, 0, 0, 0, 0, 0, 1, \"\"],\n",
        "    [2, \"\", 2, 0, 0, 0, 0, 0, 0, 1, 3, 2, \"\"],\n",
        "    [3, \"\", 1, 0, 1, 0, 0, 0, 0, 0, 2, 1, \"\"],\n",
        "    [4, \"\", 2, 0, 0, 0, 0, 0, 0, 0, 2, 1, \"\"],\n",
        "    [5, \"\", 1, 0, 1, 1, 0, 0, 0, 0, 3, 0, \"\"],\n",
        "    [6, \"\", 0, 0, 0, 1, 0, 0, 0, 1, 2, 0, \"\"],\n",
        "    [7, \"\", 1, 0, 0, 0, 0, 0, 0, 0, 1, 0, \"\"],\n",
        "    [8, \"\", 0, 0, 0, 0, 0, 0, 0, 0, 0, 1, \"\"],\n",
        "    [9, \"\", 1, 0, 0, 0, 0, 0, 0, 0, 1, 0, \"\"],\n",
        "    [10, \"\", 1, 0, 0, 0, 1, 0, 0, 0, 2, 1, \"\"]\n",
        "]\n",
        "\n",
        "cols = [\"Station\", \"Time\", \"Car\", \"Motorbike\", \"Cyclist\", \"Truck\", \"Construction\", \"Bus\", \"Van\", \"Other\", \"Total\", \"Pedestrian\", \"Field notes\"]\n",
        "mp = {k: i for i, k in enumerate(cols)}\n",
        "\n",
        "\n",
        "\n",
        "y_list = [data0, data1, data2, data3, data4]\n",
        "\n",
        "for i, transect in enumerate(y_list):\n",
        "    new_transect = transect[::-1]\n",
        "    y_list[i] = new_transect"
      ]
    },
    {
      "cell_type": "code",
      "source": [
        "def getline(x, y):\n",
        "    coefficients = np.polyfit(x, y, 3)\n",
        "    predicted_y = np.polyval(coefficients, x)\n",
        "    error = np.mean((y - predicted_y) ** 2)\n",
        "    best_fit_line = np.polyval(coefficients, x)\n",
        "    return best_fit_line, error"
      ],
      "metadata": {
        "id": "RtmSJloW6KCM"
      },
      "execution_count": null,
      "outputs": []
    },
    {
      "cell_type": "code",
      "source": [
        "colors = [\"orange\", \"green\", \"red\", \"blue\", \"yellow\"]\n",
        "\n",
        "def fitdata(y_list, label):\n",
        "    transects = [\"Glasthule\", \"Monkstown\", \"Seapoint\", \"Marine\", \"40 Foot\"]\n",
        "\n",
        "    assert len(y_list) == len(transects)\n",
        "\n",
        "    var = mp[label]\n",
        "\n",
        "    for i in range(len(transects)):\n",
        "        y = y_list[i]\n",
        "        new_y = []\n",
        "        for row in y:\n",
        "            new_y.append(row[var])\n",
        "        y = new_y\n",
        "\n",
        "        print(y)\n",
        "        x = [(j + 1) * 150 for j in range(len(y))]\n",
        "\n",
        "        plt.scatter(x, y, color=colors[i])\n",
        "\n",
        "        # Plot the best fit line\n",
        "        best_fit_line, error = getline(x, y)\n",
        "        plt.plot(x, best_fit_line, color=colors[i], label=f'BFL for {transects[i]}')\n",
        "\n",
        "        # Add labels and title\n",
        "        plt.xlabel('Distance from centre (m)')\n",
        "        plt.ylabel(label)\n",
        "        plt.title(f'Best Fit Line for {label}')\n",
        "        print(f\"Transect {transects[i]}\")\n",
        "        # Output error and min/max slopes\n",
        "        print(f\"Mean Squared Error: {error}\")\n",
        "\n",
        "\n",
        "    # Add legend\n",
        "    plt.legend()\n",
        "\n",
        "    # Show the plot\n",
        "    plt.show()\n",
        "\n"
      ],
      "metadata": {
        "id": "svIetL1C51ak"
      },
      "execution_count": null,
      "outputs": []
    },
    {
      "cell_type": "code",
      "source": [
        "fitdata(y_list, \"Car\")"
      ],
      "metadata": {
        "id": "JNN_eRb00H2j"
      },
      "execution_count": null,
      "outputs": []
    },
    {
      "cell_type": "code",
      "source": [
        "fitdata(y_list, \"Total\")"
      ],
      "metadata": {
        "id": "LFM-lIsEBJp6"
      },
      "execution_count": null,
      "outputs": []
    },
    {
      "cell_type": "code",
      "source": [
        "fitdata(y_list, \"Pedestrian\")"
      ],
      "metadata": {
        "id": "_RnCc6COBSmm"
      },
      "execution_count": null,
      "outputs": []
    }
  ]
}